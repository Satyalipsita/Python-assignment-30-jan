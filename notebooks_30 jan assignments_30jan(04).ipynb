{
  "metadata": {
    "language_info": {
      "codemirror_mode": {
        "name": "python",
        "version": 3
      },
      "file_extension": ".py",
      "mimetype": "text/x-python",
      "name": "python",
      "nbconvert_exporter": "python",
      "pygments_lexer": "ipython3",
      "version": "3.8"
    },
    "kernelspec": {
      "name": "python",
      "display_name": "Python (Pyodide)",
      "language": "python"
    }
  },
  "nbformat_minor": 4,
  "nbformat": 4,
  "cells": [
    {
      "cell_type": "code",
      "source": "print(\"Enter the number:\")\nnum=int(input())\ndef div(n):\n    while n >= 0:\n        n / 3\n    return n\ndiv(num)\nprint(\"No of times devided by 3 is:\"+n+)\n",
      "metadata": {},
      "execution_count": null,
      "outputs": []
    }
  ]
}