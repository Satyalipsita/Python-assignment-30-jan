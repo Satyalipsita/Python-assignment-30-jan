{
  "metadata": {
    "language_info": {
      "codemirror_mode": {
        "name": "python",
        "version": 3
      },
      "file_extension": ".py",
      "mimetype": "text/x-python",
      "name": "python",
      "nbconvert_exporter": "python",
      "pygments_lexer": "ipython3",
      "version": "3.8"
    },
    "kernelspec": {
      "name": "python",
      "display_name": "Python (Pyodide)",
      "language": "python"
    }
  },
  "nbformat_minor": 4,
  "nbformat": 4,
  "cells": [
    {
      "cell_type": "code",
      "source": "print(\"Ener your mark:\")\nmarksecured = int(input())\nif marksecured >90:\n    print(\"Your Grade is A\")\nelif marksecured>80 and marksecured<=90:\n    print(\"Your grde is B\")\nelif marksecured>=60 and marksecured<=80:\n    print(\"Your Grade is C\")\nelif marksecured<60:\n    print(\"Your grade is D\")\n else:\n    print(\"Invalid input\")\n          \n    ",
      "metadata": {
        "trusted": true
      },
      "execution_count": null,
      "outputs": []
    },
    {
      "cell_type": "code",
      "source": "",
      "metadata": {},
      "execution_count": null,
      "outputs": []
    },
    {
      "cell_type": "code",
      "source": "",
      "metadata": {},
      "execution_count": null,
      "outputs": []
    }
  ]
}