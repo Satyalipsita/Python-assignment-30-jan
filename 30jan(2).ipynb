{
  "metadata": {
    "language_info": {
      "codemirror_mode": {
        "name": "python",
        "version": 3
      },
      "file_extension": ".py",
      "mimetype": "text/x-python",
      "name": "python",
      "nbconvert_exporter": "python",
      "pygments_lexer": "ipython3",
      "version": "3.8"
    },
    "kernelspec": {
      "name": "python",
      "display_name": "Python (Pyodide)",
      "language": "python"
    }
  },
  "nbformat_minor": 4,
  "nbformat": 4,
  "cells": [
    {
      "cell_type": "code",
      "source": "print(\"Entrer the price of the veichle:\")\ncost=int(input())\nif cost>100000:\n    tax=cost*0.15\n    print(\"tax amount is:\"+tax+)\nelif cost>50000 and cost<=100000:\n     tax=cost*0.01\n      print(\"Tax amount is:\"+tax+)\nelif cost<=50000:\n     tax=c0st*0.05\n      print(\"tax amount is:\"+tax+)\n else:\n     print(\"Invalid input\")\n",
      "metadata": {},
      "execution_count": null,
      "outputs": []
    },
    {
      "cell_type": "code",
      "source": "",
      "metadata": {},
      "execution_count": null,
      "outputs": []
    },
    {
      "cell_type": "code",
      "source": "",
      "metadata": {},
      "execution_count": null,
      "outputs": []
    }
  ]
}