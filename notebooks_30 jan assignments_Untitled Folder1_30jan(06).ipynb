{
  "metadata": {
    "language_info": {
      "codemirror_mode": {
        "name": "python",
        "version": 3
      },
      "file_extension": ".py",
      "mimetype": "text/x-python",
      "name": "python",
      "nbconvert_exporter": "python",
      "pygments_lexer": "ipython3",
      "version": "3.8"
    },
    "kernelspec": {
      "name": "python",
      "display_name": "Python (Pyodide)",
      "language": "python"
    }
  },
  "nbformat_minor": 4,
  "nbformat": 4,
  "cells": [
    {
      "cell_type": "code",
      "source": "rows = 5\n# reverse loop\nfor i in range(rows, 0, -1):\n    num = i\n    for j in range(0, i):\n        print(num, end=' ')\n    print(\"\\r\")",
      "metadata": {
        "trusted": true
      },
      "execution_count": 1,
      "outputs": [
        {
          "name": "stdout",
          "text": "5 5 5 5 5 \n4 4 4 4 \n3 3 3 \n2 2 \n1 \n",
          "output_type": "stream"
        }
      ]
    },
    {
      "cell_type": "code",
      "source": "rows = 6\nfor i in range(1, rows):\n    for j in range(i, 0, -1):\n        print(j, end=' ')\n    print(\"\")\n",
      "metadata": {
        "trusted": true
      },
      "execution_count": 2,
      "outputs": [
        {
          "name": "stdout",
          "text": "1 \n2 1 \n3 2 1 \n4 3 2 1 \n5 4 3 2 1 \n",
          "output_type": "stream"
        }
      ]
    },
    {
      "cell_type": "code",
      "source": "rows = 6\nfor i in range(1, rows):\n    num = 1\n    for j in range(rows, 0, -1):\n        if j > i:\n            print(\" \", end=' ')\n        else:\n            print(num, end=' ')\n            num += 1\n    print(\"\")",
      "metadata": {
        "trusted": true
      },
      "execution_count": 3,
      "outputs": [
        {
          "name": "stdout",
          "text": "          1 \n        1 2 \n      1 2 3 \n    1 2 3 4 \n  1 2 3 4 5 \n",
          "output_type": "stream"
        }
      ]
    },
    {
      "cell_type": "code",
      "source": "",
      "metadata": {},
      "execution_count": null,
      "outputs": []
    }
  ]
}